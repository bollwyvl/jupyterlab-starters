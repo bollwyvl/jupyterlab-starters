{
 "cells": [
  {
   "cell_type": "markdown",
   "metadata": {},
   "source": [
    "# My Next Big Idea"
   ]
  },
  {
   "cell_type": "code",
   "execution_count": 1,
   "metadata": {
    "jupyter": {
     "source_hidden": true
    }
   },
   "outputs": [
    {
     "data": {
      "text/markdown": [
       "\n",
       "- [Introduction](./00%20Introduction.ipynb)\n",
       "- [What are you trying to do](./10%20What%20are%20you%20trying%20to%20do.ipynb)\n",
       "- [How is it done today](./20%20How%20is%20it%20done%20today.ipynb)\n",
       "- [What is new in your approach](./30%20What%20is%20new%20in%20your%20approach.ipynb)\n",
       "- [Who cares](./40%20Who%20cares.ipynb)\n",
       "- [What are the risks](./50%20What%20are%20the%20risks.ipynb)\n",
       "- [How much will it cost](./60%20How%20much%20will%20it%20cost.ipynb)\n",
       "- [How long will it take](./70%20How%20long%20will%20it%20take.ipynb)\n",
       "- [What are the mid-term and final exams](./80%20What%20are%20the%20mid-term%20and%20final%20exams.ipynb)"
      ],
      "text/plain": [
       "<IPython.core.display.Markdown object>"
      ]
     },
     "execution_count": 1,
     "metadata": {},
     "output_type": "execute_result"
    }
   ],
   "source": [
    "import IPython, pathlib, urllib.parse\n",
    "IPython.display.Markdown(\"\".join([f\"\"\"\n",
    "- [{path.name[3:-6]}](./{urllib.parse.quote(path.name)})\"\"\"\n",
    "for path in sorted(pathlib.Path().glob(\"*.ipynb\"))]))"
   ]
  },
  {
   "cell_type": "code",
   "execution_count": null,
   "metadata": {},
   "outputs": [],
   "source": []
  }
 ],
 "metadata": {
  "kernelspec": {
   "display_name": "Python 3",
   "language": "python",
   "name": "python3"
  },
  "language_info": {
   "codemirror_mode": {
    "name": "ipython",
    "version": 3
   },
   "file_extension": ".py",
   "mimetype": "text/x-python",
   "name": "python",
   "nbconvert_exporter": "python",
   "pygments_lexer": "ipython3",
   "version": "3.7.3"
  }
 },
 "nbformat": 4,
 "nbformat_minor": 4
}
