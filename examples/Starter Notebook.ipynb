{
 "cells": [
  {
   "cell_type": "markdown",
   "metadata": {},
   "source": [
    "# A Notebook Starter\n",
    "This is a notebook starter. While you are editing it, it's like a regular notebook. When it's used as a starter, it can write files to a directory that get copied to a notebook server. You can use it for apps and things."
   ]
  },
  {
   "cell_type": "code",
   "execution_count": null,
   "metadata": {},
   "outputs": [],
   "source": [
    "import os, json, pathlib"
   ]
  },
  {
   "cell_type": "markdown",
   "metadata": {},
   "source": [
    "When it's being run, you can find it with `$STARTER_NOTEBOOK`"
   ]
  },
  {
   "cell_type": "code",
   "execution_count": null,
   "metadata": {},
   "outputs": [],
   "source": [
    "live = \"STARTER_NOTEBOOK\" in os.environ\n",
    "this = pathlib.Path(os.environ.get(\"STARTER_NOTEBOOK\", \"Starter Notebook.ipynb\"))\n",
    "it = json.loads(this.read_text())"
   ]
  },
  {
   "cell_type": "markdown",
   "metadata": {},
   "source": [
    "You can find _Things To Do_ by looking in `#/metadata/jupyter_starters/starter`"
   ]
  },
  {
   "cell_type": "code",
   "execution_count": null,
   "metadata": {},
   "outputs": [],
   "source": [
    "response = it[\"metadata\"][\"jupyter_starters\"]\n",
    "starter = response[\"starter\"]\n",
    "starter"
   ]
  },
  {
   "cell_type": "markdown",
   "metadata": {},
   "source": [
    "When it's _live_, you'll get a `body` that conforms to your schema."
   ]
  },
  {
   "cell_type": "code",
   "execution_count": null,
   "metadata": {},
   "outputs": [],
   "source": [
    "body = response.get(\"body\", {})\n",
    "name = body.get(\"name\", None)"
   ]
  },
  {
   "cell_type": "markdown",
   "metadata": {},
   "source": [
    "You can react to the body, and ask for more by extending the `schema`."
   ]
  },
  {
   "cell_type": "code",
   "execution_count": null,
   "metadata": {},
   "outputs": [],
   "source": [
    "if name:\n",
    "    starter[\"schema\"][\"required\"] += [\"answer\"]\n",
    "    starter[\"schema\"][\"properties\"].update(\n",
    "        answer={\n",
    "            \"title\": \"The Answer\",\n",
    "            \"description\": \"What is the answer to the Universe, life, and everything?\",\n",
    "            \"minValue\": 41,\n",
    "            \"maxValue\": 43,\n",
    "            \"type\": \"number\"\n",
    "        }\n",
    "    )"
   ]
  },
  {
   "cell_type": "markdown",
   "metadata": {},
   "source": [
    "You can repeat this process as many times as you want"
   ]
  },
  {
   "cell_type": "code",
   "execution_count": null,
   "metadata": {},
   "outputs": [],
   "source": [
    "answer = body.get(\"answer\", 41)"
   ]
  },
  {
   "cell_type": "code",
   "execution_count": null,
   "metadata": {},
   "outputs": [],
   "source": [
    "if answer == 42:\n",
    "    (this.parent / f\"good job {name}.txt\").write_text(\"Lovely fjords\")"
   ]
  },
  {
   "cell_type": "markdown",
   "metadata": {},
   "source": [
    "Finally, write out whatever might have happened:"
   ]
  },
  {
   "cell_type": "code",
   "execution_count": null,
   "metadata": {},
   "outputs": [],
   "source": [
    "if live:\n",
    "    this.write_text(json.dumps(it))"
   ]
  },
  {
   "cell_type": "markdown",
   "metadata": {},
   "source": [
    "Thanks for reading!"
   ]
  }
 ],
 "metadata": {
  "jupyter_starters": {
   "starter": {
    "schema": {
     "properties": {
      "name": {
       "description": "What is your name?",
       "title": "Name",
       "type": "string"
      }
     },
     "required": [
      "name"
     ]
    }
   }
  },
  "kernelspec": {
   "display_name": "Python 3",
   "language": "python",
   "name": "python3"
  },
  "language_info": {
   "codemirror_mode": {
    "name": "ipython",
    "version": 3
   },
   "file_extension": ".py",
   "mimetype": "text/x-python",
   "name": "python",
   "nbconvert_exporter": "python",
   "pygments_lexer": "ipython3",
   "version": "3.7.3"
  }
 },
 "nbformat": 4,
 "nbformat_minor": 4
}
