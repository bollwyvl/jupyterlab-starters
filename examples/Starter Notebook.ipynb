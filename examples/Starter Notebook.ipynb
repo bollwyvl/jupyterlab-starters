{
 "cells": [
  {
   "cell_type": "markdown",
   "metadata": {},
   "source": [
    "# A Starter Notebook\n",
    "This is a notebook starter. While you are editing it, it's like a regular notebook. When it's used as a starter, it can write files to a directory that gets copied to a notebook server."
   ]
  },
  {
   "cell_type": "code",
   "execution_count": null,
   "metadata": {},
   "outputs": [],
   "source": [
    "import os, json, pathlib"
   ]
  },
  {
   "cell_type": "markdown",
   "metadata": {},
   "source": [
    "## `_jupyter_starter_.ipynb`"
   ]
  },
  {
   "cell_type": "markdown",
   "metadata": {},
   "source": [
    "When it's being run, this notebook will be copied into a temporary working directory with the special name `_jupyter_starter_.ipynb`. This is the only way to communicate with the notebook server."
   ]
  },
  {
   "cell_type": "code",
   "execution_count": null,
   "metadata": {},
   "outputs": [],
   "source": [
    "here = pathlib.Path.cwd()\n",
    "this = here / \"_jupyter_starter_.ipynb\""
   ]
  },
  {
   "cell_type": "markdown",
   "metadata": {},
   "source": [
    "## It's Alive"
   ]
  },
  {
   "cell_type": "code",
   "execution_count": null,
   "metadata": {},
   "outputs": [],
   "source": [
    "live = this.exists()\n",
    "if not live:\n",
    "    this = here / \"Starter Notebook.ipynb\""
   ]
  },
  {
   "cell_type": "markdown",
   "metadata": {},
   "source": [
    "## The JSON\n",
    "The notebook json is just about the only thing available, and is how you communicate with the client."
   ]
  },
  {
   "cell_type": "code",
   "execution_count": null,
   "metadata": {},
   "outputs": [],
   "source": [
    "it = json.loads(this.read_text())"
   ]
  },
  {
   "cell_type": "markdown",
   "metadata": {},
   "source": [
    "## `#/metadata/jupyter_starters`"
   ]
  },
  {
   "cell_type": "markdown",
   "metadata": {},
   "source": [
    "You can find _Things To Do_ by looking in `#/metadata/jupyter_starters/starter`."
   ]
  },
  {
   "cell_type": "code",
   "execution_count": null,
   "metadata": {},
   "outputs": [],
   "source": [
    "meta = it[\"metadata\"][\"jupyter_starters\"]\n",
    "starter = meta[\"starter\"]\n",
    "starter"
   ]
  },
  {
   "cell_type": "markdown",
   "metadata": {},
   "source": [
    "## `body`"
   ]
  },
  {
   "cell_type": "markdown",
   "metadata": {},
   "source": [
    "When running _live_, you'll get a `body` that conforms to the last schema sent."
   ]
  },
  {
   "cell_type": "code",
   "execution_count": null,
   "metadata": {},
   "outputs": [],
   "source": [
    "body = meta.get(\"body\", {})\n",
    "body"
   ]
  },
  {
   "cell_type": "markdown",
   "metadata": {},
   "source": [
    "## Reacting to the `body`, part 1"
   ]
  },
  {
   "cell_type": "markdown",
   "metadata": {},
   "source": [
    "You can react to the body, and ask for more data by extending your `schema`."
   ]
  },
  {
   "cell_type": "code",
   "execution_count": null,
   "metadata": {},
   "outputs": [],
   "source": [
    "name = body.get(\"name\")\n",
    "if name:\n",
    "    starter[\"schema\"][\"required\"] += [\"quest\"]\n",
    "    starter[\"schema\"][\"properties\"][\"name\"][\"title\"] = f\"Hi, {name}\"\n",
    "    starter[\"schema\"][\"properties\"].update(\n",
    "        quest={\n",
    "            \"title\": \"Quest\",\n",
    "            \"description\": f\"So, {name}, what is your quest?\",\n",
    "            \"type\": \"string\"\n",
    "        }\n",
    "    )"
   ]
  },
  {
   "cell_type": "markdown",
   "metadata": {},
   "source": [
    "You can repeat this process as many times as you want"
   ]
  },
  {
   "cell_type": "markdown",
   "metadata": {},
   "source": [
    "## Reacting to the `body`, part..."
   ]
  },
  {
   "cell_type": "code",
   "execution_count": null,
   "metadata": {},
   "outputs": [],
   "source": [
    "quest = body.get(\"quest\")\n",
    "if quest:\n",
    "    starter[\"schema\"][\"required\"] += [\"answer\"]\n",
    "    starter[\"schema\"][\"properties\"].update(\n",
    "        answer={\n",
    "            \"title\": \"The Answer\",\n",
    "            \"description\": f\"So, {name}, what is the answer to the Universe, life, and everything?\",\n",
    "            \"minimum\": 42,\n",
    "            \"maximum\": 42,\n",
    "            \"type\": \"number\"\n",
    "        }\n",
    "    )"
   ]
  },
  {
   "cell_type": "markdown",
   "metadata": {},
   "source": [
    "## Reacting to the `body`, part..."
   ]
  },
  {
   "cell_type": "code",
   "execution_count": null,
   "metadata": {},
   "outputs": [],
   "source": [
    "answer = body.get(\"answer\", 41)"
   ]
  },
  {
   "cell_type": "markdown",
   "metadata": {},
   "source": [
    "When you are happy, you can write out files: these will be copied to the originally provided path."
   ]
  },
  {
   "cell_type": "code",
   "execution_count": null,
   "metadata": {},
   "outputs": [],
   "source": [
    "if answer == 42:\n",
    "    (this.parent / f\"good job {name}.txt\").write_text(\"Lovely fjords\")"
   ]
  },
  {
   "cell_type": "markdown",
   "metadata": {},
   "source": [
    "Finally, write out whatever might have been updated."
   ]
  },
  {
   "cell_type": "code",
   "execution_count": null,
   "metadata": {},
   "outputs": [],
   "source": [
    "if live:\n",
    "    this.write_text(json.dumps(it))"
   ]
  },
  {
   "cell_type": "markdown",
   "metadata": {},
   "source": [
    "Thanks for reading!"
   ]
  }
 ],
 "metadata": {
  "jupyter_starters": {
   "starter": {
    "schema": {
     "properties": {
      "name": {
       "description": "What is your name?",
       "title": "Name",
       "type": "string"
      }
     },
     "required": [
      "name"
     ]
    }
   }
  },
  "kernelspec": {
   "display_name": "Python 3",
   "language": "python",
   "name": "python3"
  },
  "language_info": {
   "codemirror_mode": {
    "name": "ipython",
    "version": 3
   },
   "file_extension": ".py",
   "mimetype": "text/x-python",
   "name": "python",
   "nbconvert_exporter": "python",
   "pygments_lexer": "ipython3",
   "version": "3.7.3"
  }
 },
 "nbformat": 4,
 "nbformat_minor": 4
}
