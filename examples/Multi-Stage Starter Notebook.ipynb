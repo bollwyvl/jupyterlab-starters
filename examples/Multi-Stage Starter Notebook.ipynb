{
 "cells": [
  {
   "cell_type": "markdown",
   "metadata": {},
   "source": [
    "# Multi-Stage Notebook\n",
    "\n",
    "> _Have a look at the [Starter Notebook](./Starter%20Notebook.ipynb) for a lot of the basic ideas of using a [Jupyter Kernel](https://jupyter.readthedocs.io/en/latest/projects/kernels.html) as a Starter_\n",
    "\n",
    "Combining `continuing` with `copy`, a notebook starter can incrementally build up a directory."
   ]
  },
  {
   "cell_type": "code",
   "execution_count": null,
   "metadata": {},
   "outputs": [],
   "source": [
    "import os, json, pathlib\n",
    "here = pathlib.Path.cwd()\n",
    "this = here / \"_jupyter_starter_.ipynb\"\n",
    "live = this.exists()\n",
    "if not live:\n",
    "    this = here / \"Multi-Stage Starter Notebook.ipynb\"\n",
    "it = json.loads(this.read_text())"
   ]
  },
  {
   "cell_type": "code",
   "execution_count": null,
   "metadata": {},
   "outputs": [],
   "source": [
    "meta = it[\"metadata\"][\"jupyter_starters\"]\n",
    "body = meta.setdefault(\"body\", {})"
   ]
  },
  {
   "cell_type": "code",
   "execution_count": null,
   "metadata": {},
   "outputs": [],
   "source": [
    "if \"HP\" not in locals():\n",
    "    HP = 10"
   ]
  },
  {
   "cell_type": "code",
   "execution_count": null,
   "metadata": {},
   "outputs": [],
   "source": [
    "if \"T\" not in locals():\n",
    "    T = 0\n",
    "T += 1"
   ]
  },
  {
   "cell_type": "code",
   "execution_count": null,
   "metadata": {},
   "outputs": [],
   "source": [
    "meta[\"starter\"][\"schema\"] = {\"required\": [], \"properties\": {}}"
   ]
  },
  {
   "cell_type": "code",
   "execution_count": null,
   "metadata": {},
   "outputs": [],
   "source": [
    "lastmove = body.get(f\"move_{T - 1}\", \"start\")\n",
    "description = f\"Last time, you had ${HP} H_p$ and decided to **{lastmove}**.\""
   ]
  },
  {
   "cell_type": "code",
   "execution_count": null,
   "metadata": {},
   "outputs": [],
   "source": [
    "if lastmove in [\"fight\"]:\n",
    "    description += \"\\n> You lose $1 H_p$.\"\n",
    "    HP -= 1"
   ]
  },
  {
   "cell_type": "code",
   "execution_count": null,
   "metadata": {},
   "outputs": [],
   "source": [
    "description += f\"\\n\\n ## Now you have ${HP} H_p$.\""
   ]
  },
  {
   "cell_type": "code",
   "execution_count": null,
   "metadata": {},
   "outputs": [],
   "source": [
    "body[\"hp\"] = HP"
   ]
  },
  {
   "cell_type": "code",
   "execution_count": null,
   "metadata": {},
   "outputs": [],
   "source": [
    "meta[\"starter\"][\"schema\"][\"required\"] += [\"hp\"]\n",
    "meta[\"starter\"][\"schema\"][\"properties\"][\"hp\"] = {\n",
    "    \"type\": \"number\",\n",
    "    \"title\": \"$H_p$\",\n",
    "    \"readOnly\": True,\n",
    "    \"minimum\": 0,\n",
    "    \"maximum\": 10\n",
    "}\n",
    "# meta[\"starter\"][\"uiSchema\"][\"hp\"] = {\"ui:widget\": \"range\"}"
   ]
  },
  {
   "cell_type": "code",
   "execution_count": null,
   "metadata": {},
   "outputs": [],
   "source": [
    "move = f\"move_{T}\"\n",
    "meta[\"starter\"][\"schema\"][\"required\"] += [move]\n",
    "meta[\"starter\"][\"schema\"][\"properties\"][move] = {\n",
    "    \"title\": \"Your next move\",\n",
    "    \"description\": description,\n",
    "    \"type\": \"string\",\n",
    "    \"oneOf\": [\n",
    "        {\"const\": action, \"title\": action} \n",
    "        for action in [\"fight\", \"flee\", \"befriend\"]]\n",
    "}\n",
    "meta[\"starter\"][\"uiSchema\"][move] = {\"ui:widget\": \"radio\"}"
   ]
  },
  {
   "cell_type": "code",
   "execution_count": null,
   "metadata": {},
   "outputs": [],
   "source": [
    "meta[\"starter\"][\"commands\"] = []\n",
    "\n",
    "if HP <= 0:\n",
    "    meta[\"starter\"][\"commands\"] = [\n",
    "        {\"id\": \"apputils:change-theme\", \"args\": {\"theme\": \"JupyterLab Dark\"}}\n",
    "    ]"
   ]
  },
  {
   "cell_type": "markdown",
   "metadata": {},
   "source": [
    "Write out files."
   ]
  },
  {
   "cell_type": "code",
   "execution_count": null,
   "metadata": {},
   "outputs": [],
   "source": [
    "if live:\n",
    "    this.write_text(json.dumps(it))"
   ]
  },
  {
   "cell_type": "code",
   "execution_count": null,
   "metadata": {},
   "outputs": [],
   "source": []
  }
 ],
 "metadata": {
  "jupyter_starters": {
   "starter": {
    "commands": [
     {
      "args": {},
      "id": "apputils:change-theme"
     }
    ],
    "description": "A small interactive powered by a Notebook starter ",
    "icon": "<svg xmlns=\"http://www.w3.org/2000/svg\" width=\"24\" height=\"24\" viewBox=\"0 0 24 24\">\n<path d=\"M0 0h24v24H0z\" fill=\"none\"/>\n<g class=\"jp-icon-contrast0\" fill=\"#8e24aa\">\n    <path d=\"M20 2H4c-1.1 0-1.99.9-1.99 2L2 22l4-4h14c1.1 0 2-.9 2-2V4c0-1.1-.9-2-2-2zM8 14H6v-2h2v2zm0-3H6V9h2v2zm0-3H6V6h2v2zm7 6h-5v-2h5v2zm3-3h-8V9h8v2zm0-3h-8V6h8v2z\"/>\n</g>\n</svg>\n",
    "label": "Multi-Stage Notebook",
    "schema": {
     "properties": {
      "name": {
       "description": "What is your name?",
       "type": "string"
      }
     },
     "required": [
      "name"
     ]
    },
    "uiSchema": {}
   }
  },
  "kernelspec": {
   "display_name": "Python 3",
   "language": "python",
   "name": "python3"
  },
  "language_info": {
   "codemirror_mode": {
    "name": "ipython",
    "version": 3
   },
   "file_extension": ".py",
   "mimetype": "text/x-python",
   "name": "python",
   "nbconvert_exporter": "python",
   "pygments_lexer": "ipython3",
   "version": "3.7.3"
  }
 },
 "nbformat": 4,
 "nbformat_minor": 4
}
