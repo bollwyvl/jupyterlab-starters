{
 "cells": [
  {
   "cell_type": "markdown",
   "metadata": {},
   "source": [
    "# Using React JSON Schema Form in JupyterLab\n",
    "\n",
    "Jupyter Starters is powered by [react-json-schema-form](https://react-jsonschema-form.readthedocs.io), which you can use outside of Starters.\n",
    "\n",
    "A schema form consists of:\n",
    "- a JSON schema\n",
    "- a JSON file that should be validated by the schema\n",
    "- optionally, a [UI schema](https://react-jsonschema-form.readthedocs.io/en/latest/form-customization/#the-uischema-object) which can customize how each field is presented"
   ]
  },
  {
   "cell_type": "markdown",
   "metadata": {},
   "source": [
    "## Todo Example\n",
    "\n",
    "In this folder, you should see two schema:\n",
    "- [todos.schema.json](./todo.schema.json): a very simple schema for tasks\n",
    "- [todos.schema.alt.json](./todo.schema.alt.json): adds an importance field\n",
    "\n",
    "A single [todos.json](./todos.json), which has a few tasks.\n",
    "\n",
    "Two UI schemas:\n",
    "- [todos.ui.json](./todos.ui.json)\n",
    "- [todos.ui.alt.json](./todos.ui.alt.json)"
   ]
  },
  {
   "cell_type": "markdown",
   "metadata": {},
   "source": [
    "## Try It Out\n",
    "\n",
    "In the _Files_ sidebar, right click on `todos.json` and select `Schema Form`. Because it has a relative value for `$schema`, it will automatically open the schema file as an editor, but you can choose any other open `.json` file from the _JSON Schema_ dropdown.\n",
    "\n",
    "> Currently, only relative `$schema` are supported: in the future, a schema store will allow for other extensions and user preferences to provide rules for managing this relationship."
   ]
  },
  {
   "cell_type": "markdown",
   "metadata": {},
   "source": [
    "## UI Schema\n",
    "\n",
    "Open up [todos.ui.json](./todos.ui.json), and after selecting it from the _UI Schema_ toolbar, you should see some different UI for your form. Experiment with the JSON Schema and UI Schema and their resulting files. See the extensive [uiSchema documentation](https://react-jsonschema-form.readthedocs.io/en/latest/form-customization/#the-uischema-object) for more."
   ]
  },
  {
   "cell_type": "markdown",
   "metadata": {},
   "source": [
    "## Extras\n",
    "`jupyterlab-rjsf` ships a few features specifically for integration with JupyterLab."
   ]
  },
  {
   "cell_type": "markdown",
   "metadata": {},
   "source": [
    "### `codemirror` widgets\n",
    "\n",
    "Specifying a `string` field as `\"ui:widget\": \"codemirror\"` in a UI schema will create a CodeMirror editor. It accepts a `ui:options` with any of the literal values from [CodeMirror configuration](https://codemirror.net/doc/manual.html#config).\n",
    "\n",
    "\n",
    "Two convenience variants, `codemirror-markdown` and `codemirror-xml` are also provided, but really only set `mode` to their respective mode name."
   ]
  },
  {
   "cell_type": "markdown",
   "metadata": {},
   "source": [
    "### `codemirror-jsonobject` fields\n",
    "Specifying an `object` of type `\"ui:field\": \"codemirror-jsonobject\"` in a UI Schema will create a CodeMirror that creates literal JSON. Generally, you _wouldn't_ want to make someone do this, but sometimes there is no better way."
   ]
  }
 ],
 "metadata": {
  "kernelspec": {
   "display_name": "Python 3",
   "language": "python",
   "name": "python3"
  },
  "language_info": {
   "codemirror_mode": {
    "name": "ipython",
    "version": 3
   },
   "file_extension": ".py",
   "mimetype": "text/x-python",
   "name": "python",
   "nbconvert_exporter": "python",
   "pygments_lexer": "ipython3",
   "version": "3.7.6"
  }
 },
 "nbformat": 4,
 "nbformat_minor": 4
}
